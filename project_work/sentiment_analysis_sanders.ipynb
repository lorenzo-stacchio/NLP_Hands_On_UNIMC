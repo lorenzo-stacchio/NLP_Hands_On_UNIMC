{
 "cells": [
  {
   "cell_type": "markdown",
   "metadata": {},
   "source": [
    "# PROJECT WORK\n",
    "\n",
    "The twitter sentiment corpus created by Sanders Analytics (failed company), consists of 5513 hand-classified tweets (however, 400 tweets missing due to the scripts created by the company).\n",
    "\n",
    "Each tweet was classified with respect to one of different topics and sentiments.\n",
    "\n",
    "The dataset is available in this folder as ```tweet_sentiment.csv```.\n",
    "\n",
    "Your goal for this project will consist of:\n",
    "\n",
    "- Clean the dataset from broken data (if present);\n",
    "- (Optional) Use the NLTK library to remove the stopwords; \n",
    "- (Optional) Use the NLTK library perform stemming and lemmatization text processing;\n",
    "- Perform text vectorization with both the Count and TF-IDF vectorizers with the tokenizer provided by the NLTK library;\n",
    "- Build and train sentiment analysis classifiers with at least two ML models using scklearn;\n",
    "- Provide quantative metrics for the evaluation of your model;\n",
    "- Provide a critique qualitative analysis of both correct and wrong preditions;"
   ]
  },
  {
   "cell_type": "markdown",
   "metadata": {},
   "source": [
    "## Imports"
   ]
  },
  {
   "cell_type": "code",
   "execution_count": 1,
   "metadata": {},
   "outputs": [],
   "source": [
    "import pandas as pd\n",
    "####### \n",
    "# import all the libraries that you need\n",
    "####### "
   ]
  },
  {
   "cell_type": "markdown",
   "metadata": {},
   "source": [
    "## Read the dataset"
   ]
  },
  {
   "cell_type": "code",
   "execution_count": 6,
   "metadata": {},
   "outputs": [
    {
     "data": {
      "text/html": [
       "<div>\n",
       "<style scoped>\n",
       "    .dataframe tbody tr th:only-of-type {\n",
       "        vertical-align: middle;\n",
       "    }\n",
       "\n",
       "    .dataframe tbody tr th {\n",
       "        vertical-align: top;\n",
       "    }\n",
       "\n",
       "    .dataframe thead th {\n",
       "        text-align: right;\n",
       "    }\n",
       "</style>\n",
       "<table border=\"1\" class=\"dataframe\">\n",
       "  <thead>\n",
       "    <tr style=\"text-align: right;\">\n",
       "      <th></th>\n",
       "      <th>Topic</th>\n",
       "      <th>Sentiment</th>\n",
       "      <th>TweetId</th>\n",
       "      <th>TweetDate</th>\n",
       "      <th>TweetText</th>\n",
       "    </tr>\n",
       "  </thead>\n",
       "  <tbody>\n",
       "    <tr>\n",
       "      <th>0</th>\n",
       "      <td>apple</td>\n",
       "      <td>positive</td>\n",
       "      <td>126415614616154112</td>\n",
       "      <td>Tue Oct 18 21:53:25 +0000 2011</td>\n",
       "      <td>Now all @Apple has to do is get swype on the i...</td>\n",
       "    </tr>\n",
       "    <tr>\n",
       "      <th>1</th>\n",
       "      <td>apple</td>\n",
       "      <td>positive</td>\n",
       "      <td>126404574230740992</td>\n",
       "      <td>Tue Oct 18 21:09:33 +0000 2011</td>\n",
       "      <td>@Apple will be adding more carrier support to ...</td>\n",
       "    </tr>\n",
       "    <tr>\n",
       "      <th>2</th>\n",
       "      <td>apple</td>\n",
       "      <td>positive</td>\n",
       "      <td>126402758403305474</td>\n",
       "      <td>Tue Oct 18 21:02:20 +0000 2011</td>\n",
       "      <td>Hilarious @youtube video - guy does a duet wit...</td>\n",
       "    </tr>\n",
       "    <tr>\n",
       "      <th>3</th>\n",
       "      <td>apple</td>\n",
       "      <td>positive</td>\n",
       "      <td>126397179614068736</td>\n",
       "      <td>Tue Oct 18 20:40:10 +0000 2011</td>\n",
       "      <td>@RIM you made it too easy for me to switch to ...</td>\n",
       "    </tr>\n",
       "    <tr>\n",
       "      <th>4</th>\n",
       "      <td>apple</td>\n",
       "      <td>positive</td>\n",
       "      <td>126395626979196928</td>\n",
       "      <td>Tue Oct 18 20:34:00 +0000 2011</td>\n",
       "      <td>I just realized that the reason I got into twi...</td>\n",
       "    </tr>\n",
       "    <tr>\n",
       "      <th>...</th>\n",
       "      <td>...</td>\n",
       "      <td>...</td>\n",
       "      <td>...</td>\n",
       "      <td>...</td>\n",
       "      <td>...</td>\n",
       "    </tr>\n",
       "    <tr>\n",
       "      <th>5108</th>\n",
       "      <td>twitter</td>\n",
       "      <td>irrelevant</td>\n",
       "      <td>126855687060987904</td>\n",
       "      <td>Thu Oct 20 03:02:07 +0000 2011</td>\n",
       "      <td>me re copè con #twitter</td>\n",
       "    </tr>\n",
       "    <tr>\n",
       "      <th>5109</th>\n",
       "      <td>twitter</td>\n",
       "      <td>irrelevant</td>\n",
       "      <td>126855171702661120</td>\n",
       "      <td>Thu Oct 20 03:00:04 +0000 2011</td>\n",
       "      <td>Buenas noches genteeee :) #twitter los quieroo...</td>\n",
       "    </tr>\n",
       "    <tr>\n",
       "      <th>5110</th>\n",
       "      <td>twitter</td>\n",
       "      <td>irrelevant</td>\n",
       "      <td>126854999442587648</td>\n",
       "      <td>Thu Oct 20 02:59:23 +0000 2011</td>\n",
       "      <td>#twitter tiene la mala costumbre de ponerce bn...</td>\n",
       "    </tr>\n",
       "    <tr>\n",
       "      <th>5111</th>\n",
       "      <td>twitter</td>\n",
       "      <td>irrelevant</td>\n",
       "      <td>126854818101858304</td>\n",
       "      <td>Thu Oct 20 02:58:40 +0000 2011</td>\n",
       "      <td>Oi @flaviasansi. Muito bem vinda ao meu #Twitt...</td>\n",
       "    </tr>\n",
       "    <tr>\n",
       "      <th>5112</th>\n",
       "      <td>twitter</td>\n",
       "      <td>irrelevant</td>\n",
       "      <td>126854423317188608</td>\n",
       "      <td>Thu Oct 20 02:57:06 +0000 2011</td>\n",
       "      <td>Eles arrastaram os barcos para a praia, deixar...</td>\n",
       "    </tr>\n",
       "  </tbody>\n",
       "</table>\n",
       "<p>5113 rows × 5 columns</p>\n",
       "</div>"
      ],
      "text/plain": [
       "        Topic   Sentiment             TweetId                       TweetDate  \\\n",
       "0       apple    positive  126415614616154112  Tue Oct 18 21:53:25 +0000 2011   \n",
       "1       apple    positive  126404574230740992  Tue Oct 18 21:09:33 +0000 2011   \n",
       "2       apple    positive  126402758403305474  Tue Oct 18 21:02:20 +0000 2011   \n",
       "3       apple    positive  126397179614068736  Tue Oct 18 20:40:10 +0000 2011   \n",
       "4       apple    positive  126395626979196928  Tue Oct 18 20:34:00 +0000 2011   \n",
       "...       ...         ...                 ...                             ...   \n",
       "5108  twitter  irrelevant  126855687060987904  Thu Oct 20 03:02:07 +0000 2011   \n",
       "5109  twitter  irrelevant  126855171702661120  Thu Oct 20 03:00:04 +0000 2011   \n",
       "5110  twitter  irrelevant  126854999442587648  Thu Oct 20 02:59:23 +0000 2011   \n",
       "5111  twitter  irrelevant  126854818101858304  Thu Oct 20 02:58:40 +0000 2011   \n",
       "5112  twitter  irrelevant  126854423317188608  Thu Oct 20 02:57:06 +0000 2011   \n",
       "\n",
       "                                              TweetText  \n",
       "0     Now all @Apple has to do is get swype on the i...  \n",
       "1     @Apple will be adding more carrier support to ...  \n",
       "2     Hilarious @youtube video - guy does a duet wit...  \n",
       "3     @RIM you made it too easy for me to switch to ...  \n",
       "4     I just realized that the reason I got into twi...  \n",
       "...                                                 ...  \n",
       "5108                            me re copè con #twitter  \n",
       "5109  Buenas noches genteeee :) #twitter los quieroo...  \n",
       "5110  #twitter tiene la mala costumbre de ponerce bn...  \n",
       "5111  Oi @flaviasansi. Muito bem vinda ao meu #Twitt...  \n",
       "5112  Eles arrastaram os barcos para a praia, deixar...  \n",
       "\n",
       "[5113 rows x 5 columns]"
      ]
     },
     "execution_count": 6,
     "metadata": {},
     "output_type": "execute_result"
    }
   ],
   "source": [
    "dataset_sentiment_twitter = pd.read_csv(\"tweet_sentiment.csv\")\n",
    "dataset_sentiment_twitter"
   ]
  },
  {
   "cell_type": "code",
   "execution_count": 8,
   "metadata": {},
   "outputs": [
    {
     "data": {
      "text/plain": [
       "array(['apple', 'google', 'microsoft', 'twitter'], dtype=object)"
      ]
     },
     "execution_count": 8,
     "metadata": {},
     "output_type": "execute_result"
    }
   ],
   "source": [
    "dataset_sentiment_twitter.Topic.unique()"
   ]
  },
  {
   "cell_type": "code",
   "execution_count": null,
   "metadata": {},
   "outputs": [],
   "source": []
  },
  {
   "cell_type": "code",
   "execution_count": null,
   "metadata": {},
   "outputs": [],
   "source": []
  },
  {
   "cell_type": "code",
   "execution_count": null,
   "metadata": {},
   "outputs": [],
   "source": []
  },
  {
   "cell_type": "code",
   "execution_count": null,
   "metadata": {},
   "outputs": [],
   "source": []
  },
  {
   "cell_type": "markdown",
   "metadata": {},
   "source": [
    "# Topic Recognition\n",
    "\n",
    "As you saw, the twitter sentiment corpus created by Sanders Analytics include also the feature \"Topic\". \n",
    "\n",
    "The topics included are 'apple', 'google', 'microsoft', and 'twitter'. This categorization allows for the segmentation of tweets according to the company or service being referenced, enabling analysis of discussions related to these specific entities.\n",
    "\n",
    "Your goal for this project will consist of:\n",
    "\n",
    "- Clean the dataset from broken data (if present);\n",
    "- (Optional) Use the NLTK library to remove the stopwords; \n",
    "- (Optional) Use the NLTK library perform stemming and lemmatization text processing;\n",
    "- Perform text vectorization with both the Count and TF-IDF vectorizers with the tokenizer provided by the NLTK library;\n",
    "- Build and train topic classifiers with at least two ML models using scklearn;\n",
    "- Provide quantative metrics for the evaluation of your model;\n",
    "- Provide a critique qualitative analysis of both correct and wrong preditions;"
   ]
  },
  {
   "cell_type": "code",
   "execution_count": null,
   "metadata": {},
   "outputs": [],
   "source": []
  }
 ],
 "metadata": {
  "kernelspec": {
   "display_name": "venv",
   "language": "python",
   "name": "python3"
  },
  "language_info": {
   "codemirror_mode": {
    "name": "ipython",
    "version": 3
   },
   "file_extension": ".py",
   "mimetype": "text/x-python",
   "name": "python",
   "nbconvert_exporter": "python",
   "pygments_lexer": "ipython3",
   "version": "3.10.6"
  }
 },
 "nbformat": 4,
 "nbformat_minor": 2
}
