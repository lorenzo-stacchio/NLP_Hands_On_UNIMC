{
 "cells": [
  {
   "cell_type": "markdown",
   "id": "5beff14e-648d-4749-8305-2b112b76f492",
   "metadata": {},
   "source": [
    "# SENTIMENT ANALYSIS SCIKIT-LEARN ON MOVIE REVIEWS"
   ]
  },
  {
   "cell_type": "markdown",
   "id": "36772b15-527a-4b10-b111-dc7343927403",
   "metadata": {},
   "source": [
    "![SegmentLocal](sentiment.png \"segment\")"
   ]
  },
  {
   "cell_type": "markdown",
   "id": "8f943e45-9da5-4dc1-a66b-14a79169f09f",
   "metadata": {},
   "source": [
    "This notebook was developed following this tutorial on scikit-learn.org: http://scikit-learn.org/dev/tutorial/text_analytics/working_with_text_data.html\n",
    "\n",
    "However, it was adapted for movie review corpus, downloadable [here](https://www.nltk.org/nltk_data/) using the NLTK's tokenizer (so symbols and stopwords are not thrown out)"
   ]
  },
  {
   "cell_type": "code",
   "execution_count": 2,
   "id": "22e57251-67e1-4d2f-9720-940c8f38917d",
   "metadata": {},
   "outputs": [],
   "source": [
    "import sklearn\n",
    "from sklearn.datasets import load_files"
   ]
  },
  {
   "cell_type": "code",
   "execution_count": 16,
   "id": "57041875-638d-4bf3-9db4-fc7f52b6ce35",
   "metadata": {},
   "outputs": [],
   "source": [
    "moviedir = r'movie_reviews'\n",
    "\n",
    "# loading all files from folder\n",
    "movie = load_files(moviedir, shuffle=True)"
   ]
  },
  {
   "cell_type": "code",
   "execution_count": 4,
   "id": "9238b5f4-f84f-4804-b533-9019a350ff9b",
   "metadata": {},
   "outputs": [
    {
     "data": {
      "text/plain": [
       "2000"
      ]
     },
     "execution_count": 4,
     "metadata": {},
     "output_type": "execute_result"
    }
   ],
   "source": [
    "len(movie.data)"
   ]
  },
  {
   "cell_type": "code",
   "execution_count": 5,
   "id": "aee76a0f-d87a-44d6-8d0b-4736c9db7436",
   "metadata": {},
   "outputs": [
    {
     "data": {
      "text/plain": [
       "['neg', 'pos']"
      ]
     },
     "execution_count": 5,
     "metadata": {},
     "output_type": "execute_result"
    }
   ],
   "source": [
    "# target names (\"classes\") are automatically generated from subfolder names\n",
    "movie.target_names"
   ]
  },
  {
   "cell_type": "code",
   "execution_count": 6,
   "id": "e53fb62a-2d22-4f13-adef-058350dc3a38",
   "metadata": {},
   "outputs": [
    {
     "data": {
      "text/plain": [
       "b\"arnold schwarzenegger has been an icon for action enthusiasts , since the late 80's , but lately his films have been very sloppy and the one-liners are getting worse . \\nit's hard seeing arnold as mr . freeze in batman and robin , especially when he says tons of ice jokes , but hey he got 15 million , what's it matter to him ? \\nonce again arnold has signed to do another expensive blockbuster , that can't compare with the likes of the terminator series , true lies and even eraser . \\nin this so cal\""
      ]
     },
     "execution_count": 6,
     "metadata": {},
     "output_type": "execute_result"
    }
   ],
   "source": [
    "# First file seems to be about a Schwarzenegger movie. \n",
    "movie.data[0][:500]"
   ]
  },
  {
   "cell_type": "code",
   "execution_count": 7,
   "id": "efc0d54c-479a-4570-b7de-c1f678c8499d",
   "metadata": {},
   "outputs": [
    {
     "data": {
      "text/plain": [
       "'movie_reviews\\\\neg\\\\cv405_21868.txt'"
      ]
     },
     "execution_count": 7,
     "metadata": {},
     "output_type": "execute_result"
    }
   ],
   "source": [
    "movie.filenames[0]"
   ]
  },
  {
   "cell_type": "markdown",
   "id": "c9276a01-b113-4096-83e7-be627c462d5a",
   "metadata": {},
   "source": [
    "# Split in train e test set"
   ]
  },
  {
   "cell_type": "code",
   "execution_count": 43,
   "id": "2470ffac-e6fc-4640-b4f4-c80fd58c24c1",
   "metadata": {},
   "outputs": [],
   "source": [
    "import numpy as np\n",
    "movie.target = np.array([movie.target_names[x] for x in movie.target]) # change targets from 0,1 to their original labels neg,pos"
   ]
  },
  {
   "cell_type": "code",
   "execution_count": 45,
   "id": "883188bf-09a4-4bd9-b3af-c331553648cb",
   "metadata": {},
   "outputs": [],
   "source": [
    "from sklearn.model_selection import train_test_split\n",
    "\n",
    "docs_train, docs_test, y_train, y_test = train_test_split(movie.data, movie.target, \n",
    "                                                          test_size = 0.20, random_state = 42)"
   ]
  },
  {
   "cell_type": "code",
   "execution_count": 46,
   "id": "c4e42a8f-e20b-4b6f-a3c8-3dfd51af9e56",
   "metadata": {},
   "outputs": [
    {
     "name": "stderr",
     "output_type": "stream",
     "text": [
      "[nltk_data] Downloading package punkt to\n",
      "[nltk_data]     C:\\Users\\Chiqu\\AppData\\Roaming\\nltk_data...\n",
      "[nltk_data]   Package punkt is already up-to-date!\n"
     ]
    },
    {
     "data": {
      "text/plain": [
       "True"
      ]
     },
     "execution_count": 46,
     "metadata": {},
     "output_type": "execute_result"
    }
   ],
   "source": [
    "from sklearn.feature_extraction.text import TfidfVectorizer\n",
    "import nltk\n",
    "nltk.download('punkt')"
   ]
  },
  {
   "cell_type": "code",
   "execution_count": 47,
   "id": "ef206d54-67ff-4833-a358-fb464dda051a",
   "metadata": {},
   "outputs": [
    {
     "name": "stderr",
     "output_type": "stream",
     "text": [
      "C:\\ProgramData\\anaconda3\\Lib\\site-packages\\sklearn\\feature_extraction\\text.py:528: UserWarning: The parameter 'token_pattern' will not be used since 'tokenizer' is not None'\n",
      "  warnings.warn(\n"
     ]
    }
   ],
   "source": [
    "tfidfvec = TfidfVectorizer(tokenizer=nltk.word_tokenize) # use the tokenizer from the nltk library\n",
    "\n",
    "# Fit and transform for both train and test\n",
    "docs_tfidf_train = tfidfvec.fit_transform(docs_train)\n",
    "docs_tfidf_test = tfidfvec.transform(docs_test)"
   ]
  },
  {
   "cell_type": "code",
   "execution_count": 48,
   "id": "b1c285a8-ffc1-4d39-9197-c051ca31e4be",
   "metadata": {},
   "outputs": [
    {
     "name": "stdout",
     "output_type": "stream",
     "text": [
      "(1600, 41912)\n",
      "(400, 41912)\n"
     ]
    }
   ],
   "source": [
    "print(docs_tfidf_train.shape)\n",
    "print(docs_tfidf_test.shape)"
   ]
  },
  {
   "cell_type": "code",
   "execution_count": 49,
   "id": "60c2f41d-2965-413f-ada1-a830fbc1c239",
   "metadata": {},
   "outputs": [
    {
     "name": "stdout",
     "output_type": "stream",
     "text": [
      "32570\n",
      "41666\n"
     ]
    }
   ],
   "source": [
    "# 'screen' is found in the corpus, mapped to index 32383\n",
    "print(tfidfvec.vocabulary_.get('screen'))\n",
    "print(tfidfvec.vocabulary_.get('yellowstone'))"
   ]
  },
  {
   "cell_type": "code",
   "execution_count": 50,
   "id": "51be88da-0a16-472d-93aa-78c1d64c6252",
   "metadata": {
    "scrolled": true
   },
   "outputs": [
    {
     "name": "stdout",
     "output_type": "stream",
     "text": [
      "b'i rented \" brokedown palace \" last night blind , having heard nothing about it beforehand , and i enjoyed it immensely despite some flaws . \\nfor anyone wishing to have the same experience i would suggest reserving judgement of the movie until viewing it in its entirety . \\nthat is no easy task . \\nsuperficially , it bears an unfortunate ( and not necessarily unintended ) resemblance to several other movies , notably \" return to paradise \" and \" midnight express . \" \\nas a result nearly every review of \" brokedown palace \" i subsequently read became hopelessly entangled in making the obvious comparisons . \\nthe consequence was nearly universal condemnation , which is a shame as this is a fine film . \\nfor those who have yet to view the movie , let me say that it is not an attempt to portray the nightmarish reality of the third world criminal justice system ( as was \" midnight express \" ) nor completely the moral dilemma and examination of the meaning of friendship and humanity that was the heart of \" return to paradise . \" \\nin my view , if this film is to be compared to any other source it would have to be joseph conrad\\'s acclaimed novel , \" lord jim . \" \\nproblematically , the basic storyline seems more than familiar : two american teenage girls on vacation are sentenced to spend most of their lives in a thai prison for drug smuggling in an obvious set-up involving a suave con-man , a shadowy criminal conspiracy and a corrupt third world \" justice \" system . \\nthe girls are alice ( claire danes ) and darlene ( kate beckinsale ) . \\nthey\\'re life-long buddies who planned a high-school graduation trip to hawaii , and then secretly changed their destination to the more exotic thailand without telling their parents . \\nonce there , they find a $6 hotel and go sight-seeing , which includes sneaking into a luxury hotel to sip expensive drinks poolside . \\nthey get caught trying to charge the bill to the wrong room , a minor transgression which will later come back to haunt them , but they are saved from hotel security by a charming , friendly australian , nick ( daniel lapaine ) , who takes care of the bill with a more polished execution of the girl\\'s scam . \\nhe then proceeds to separate the girls and make smooth moves , first toward alice , then toward darlene . \\nby now alarm bells are going off among viewers . \\nthe ever-present nick is too slick and his stories don\\'t add up ( to us ) --the girls , of course , are too naive to notice . \\nlong before it happens , we\\'re anticipating the inevitable disappearance of the fast-talking smuggler and the arrest of our teenaged sitting-ducks at the airport en route to hong kong caught holding the bag ( literally ) containing heroin . \\njust as predictably , the thai police and courts do their part in meting out injustice and our trusting tourists are prison-bound for a long stretch . \\nleft unanswered is the red herring issue of whether one or the other of the girls was a willing accomplice . \\nfor those in need of a ready answer , might i suggest closer scrutiny of the bell hop at the girl\\'s fleabag hotel . \\nas one door after another to their comfortable former life is closed , the girls and their families turn in desperation to the noiresque expatriate lawyer/fixer \" yankee hank \" ( bill pullam ) and his thai-born partner-wife . \\na recurring element of the movie is the tension between appearance and reality as expressed in one of the film\\'s tag lines , \" who do you trust ? , \" and hank is no exception although seasoned movie- goers and those familiar with pullman\\'s oeuvre will find few surprises . \\nmuch of the remainder of the movie is a smorgasbord of intriguing themes incompletely explored in short-hand fashion . \\nlou diamond phillips , for instance , plays a delightfully sinister and callous dea agent who , while appearing to be casually accommodating to hank , withholds vital information at crucial moments . \\nis he part of a wider conspiracy ? \\nwith an inherently powerful , if somewhat tired premise , the film offers by parts a riveting courtroom drama , a prison story , and a potential character study of american teens , their relationship , and what constitutes friendship between them . \\nthe result is reasonably engaging and suspenseful , with the girls\\' interaction , hank\\'s investigation , and the various trials and hearings , offering hope for their release , delivering tension--as does the foredoomed possibility of their escape . \\nif \" brokedown palace \" has a major flaw , it is its creators\\' tendency , like time-constrained tourists , to take frequent side trips down fascinating alleys only to reverse direction half-way down and return to the story\\'s main avenue . \\nand , if that were all there was to \" brokedown palace , \" it wouldn\\'t be a very good movie . \\nbut i believe the writers and director were after bigger game and , in this , they succeeded . \\nfor the main theme of the movie , like the proffered name of its location , is freedom--in all its permutations . \\nultimately , the other sub-themes may be considered window dressing . \\nyoung and pretty , alice ( danes ) is an old soul ; a wild , streetwise teenager with a thirst for freedom and adventure . \\npresented as a perfect blend of yin and yang , dark and light , is her cautious best friend , darlene ( beckinsale ) . \\nclear-eyed and straightforward , alice is more complex than her friend . \\nshe comes from a poorer background , has a reputation for getting into trouble and has lost the trust of everyone ( including her own father ) . \\nwhereas darlene\\'s life is \" on-track , \" aimed at college , marriage , kids , a career , a suburban home , middle age and \" fulfillment , \" alice\\'s is uncertain , unfocused , and yearning . \\none poignant scene in the film shows darlene shouting across an open moat to visitors--friends and relatives from home , whose lives continue while hers is in limbo . \\ntellingly , alice is present but not included . \\njust as revealing of their different personalities , when alice and dar first come to thailand , the openness and delight on alice\\'s face doesn\\'t read as simple naivet ? ; the way she stands up and stretches as she and her friend ride along in a small boat , reaching toward the sun , she really is drinking in what she believes to be freedom , while \" dar \" remains seated in the shade . \\n \" brokedown palace \" begins with an admission by alice of her guilt in a tape recording sent to hank . \\nhowever unintentional , it\\'s all alice\\'s fault . \\nshe\\'s responsible for persuading her friend to lie to her parents , to sneak away from the safety of hawaii to the perils of thailand , to try the petty scam which places them in the clutches of the evil nick . \\n ( in case one misses this point in the inevitable confusion of a film\\'s beginning , darlene obligingly reminds alice of her culpability in prison . ) \\ndar , of course , is the willing dupe which , in her view , confers innocence . \\nnever mind that it was her coercion of a reluctant alice to accompany her to hong kong which placed them in police custody in the first place or that her naive confession sealed their fate . \\ndar is innocent . \\nit doesn\\'t matter . \\nalice is the subject of this movie . \\nshe and her journey toward personal freedom . \\nalong the way we are treated to an unsympathetic portrait of the shallow american culture which created these girls with their half-baked sensibilities and materialistic goals . \\nin the end , that culture , like its representatives , \" yankee \" hank and dar\\'s father ( a \" man who knows how to grease the wheels \" ) , proves as impotent as its government in the face of the girl\\'s tragedy . \\nthailand\\'s culture , contrary to most opinion , comes off much better by comparison . \\nit amazes me that reviewers argued this point at both extremes . \\ni believe the filmmaker\\'s view was that thai culture is vastly different from the american but not necessarily inferior . \\nthe thai ( with the sole exceptions of a corrupt official and a spiteful prison spy ) were uniformly consistent in their behavior and true to their principles . \\nthe girls were shown to be treated no better but certainly no worse than the native-born . \\ntheir prison ( in stark contrast to the probable reality ) was no hellhole , being relatively clean and sunlit . \\nthe prison authorities demanded good hygiene , provided medical care when needed , and \" hard manual labor \" consisted of picking grass ! \\nthe thai guards were authoritarian ( what else ? ) but certainly not routinely sadistic . \\nas for the thai justice system , the reasoning of the thai judges , during both an appeal hearing and in the film\\'s penultimate scene was devastating in its logic and morality . \\n\\'freedom\\' has many faces and \" brokedown palace \" explores many of them . \\nin the extreme , we have freedom of the body and freedom of the spirit . \\nsome settle for the former alone while others remain imprisoned with an entire nation to roam without the latter . \\nbut freedom seldom comes without a price . \\nwhich is why the movie\\'s other tag lines are : \" what is your dream ? \" \\nand \" how far would you go ? \" \\ni believe i could make a good case for the interpretation that the person who attains freedom , incarcerated or not , by film\\'s end is alice . \\nshe finds redemption and salvation through the acceptance of personal responsibility . \\ni think the light bathing only her figure among the assembled prisoners in the final scene visually signals that fact . \\nkate beckinsale\\'s character might more properly be likened to the \" released \" temple bird referred to twice during the film , \" trained to fly back to its cage . \" \\nas the thai magistrate observed in the film\\'s climactic scene , the issue was always one of \" character ; \" and the jamaican prisoner made it clear that \" freedom \" is achieved within oneself . \\nif one thinks back over the movie , which character was transformed by their experiences ? \\nincreasingly , the cinema landscape seems to have become littered with endless permutations of \\'kung fu woman\\'--female characters virtually indistinguishable from male action figures . \\nhere , at last , is the story of a modern heroine . \\nin reading the many user\\'s comments , i was struck by what seems an unusual phenomenon : whether or not a person liked the movie , almost everyone praised the actors . \\nthink about that . \\nwhen was the last time you came away from a motion picture possibly hating it , but raving about all the performances in it ? \\ndo yourself a favor : rent \" brokedown palace \" and watch it with a open mind . \\nthere\\'s more there than meets the eye . \\n'\n",
      "0.0\n",
      "0.0\n"
     ]
    }
   ],
   "source": [
    "print(docs_train[0])\n",
    "print(docs_tfidf_train[0].toarray()[0][32383]) ## check if screen is in the first train sentence and what is the TF-IDF value\n",
    "print(docs_tfidf_train[0].toarray()[0][41508]) ## check if yellowstone is in the first train sentence and what is the TF-IDF value"
   ]
  },
  {
   "cell_type": "markdown",
   "id": "5504c98a-1182-4c48-a017-5bf64e1e6a4b",
   "metadata": {},
   "source": [
    "## Train Naive Bayes"
   ]
  },
  {
   "cell_type": "code",
   "execution_count": 51,
   "id": "93736804-d15a-4b0f-920c-25fdbbc5a0a2",
   "metadata": {},
   "outputs": [],
   "source": [
    "from sklearn.naive_bayes import MultinomialNB"
   ]
  },
  {
   "cell_type": "code",
   "execution_count": 52,
   "id": "b7232fb0-9494-4489-9079-9abd99f243b6",
   "metadata": {},
   "outputs": [],
   "source": [
    "clf = MultinomialNB().fit(docs_tfidf_train, y_train)"
   ]
  },
  {
   "cell_type": "code",
   "execution_count": 53,
   "id": "58420c5e-28ff-4f9a-a7bf-cbab5f9f6b9e",
   "metadata": {},
   "outputs": [
    {
     "data": {
      "text/plain": [
       "0.76"
      ]
     },
     "execution_count": 53,
     "metadata": {},
     "output_type": "execute_result"
    }
   ],
   "source": [
    "y_pred = clf.predict(docs_tfidf_test)\n",
    "sklearn.metrics.accuracy_score(y_test, y_pred)"
   ]
  },
  {
   "cell_type": "markdown",
   "id": "d6bc183b-3819-4f18-97ee-a947dda5c579",
   "metadata": {},
   "source": [
    "### Calculate Metrics and confusion matrix"
   ]
  },
  {
   "cell_type": "code",
   "execution_count": 54,
   "id": "8e52ac62-4cbe-4506-a22d-5321896cd2db",
   "metadata": {},
   "outputs": [],
   "source": [
    "from sklearn import metrics"
   ]
  },
  {
   "cell_type": "code",
   "execution_count": 55,
   "id": "8fc8a467-9aa0-42ca-a781-9f05e3edbcd5",
   "metadata": {},
   "outputs": [
    {
     "data": {
      "text/plain": [
       "array(['neg', 'pos', 'pos', ..., 'pos', 'neg', 'neg'], dtype='<U3')"
      ]
     },
     "execution_count": 55,
     "metadata": {},
     "output_type": "execute_result"
    }
   ],
   "source": [
    "movie.target"
   ]
  },
  {
   "cell_type": "code",
   "execution_count": 58,
   "id": "13e7d5cc-e516-4010-81aa-aa8b41a8c435",
   "metadata": {},
   "outputs": [
    {
     "name": "stdout",
     "output_type": "stream",
     "text": [
      "              precision    recall  f1-score   support\n",
      "\n",
      "         neg       0.69      0.92      0.78       190\n",
      "         pos       0.89      0.62      0.73       210\n",
      "\n",
      "    accuracy                           0.76       400\n",
      "   macro avg       0.79      0.77      0.76       400\n",
      "weighted avg       0.79      0.76      0.76       400\n",
      "\n"
     ]
    }
   ],
   "source": [
    "print(metrics.classification_report(y_test, y_pred, labels=movie.target_names))"
   ]
  },
  {
   "cell_type": "code",
   "execution_count": 57,
   "id": "e8e1bd8f-4c23-44eb-9967-ec028e624229",
   "metadata": {},
   "outputs": [
    {
     "data": {
      "image/png": "[encoded data removed]",
      "text/plain": [
       "<Figure size 640x480 with 2 Axes>"
      ]
     },
     "metadata": {},
     "output_type": "display_data"
    }
   ],
   "source": [
    "import matplotlib.pyplot as plt\n",
    "\n",
    "cm = metrics.confusion_matrix(y_test, y_pred, labels=movie.target_names)\n",
    "disp = metrics.ConfusionMatrixDisplay(confusion_matrix=cm,\n",
    "                              display_labels=clf.classes_)\n",
    "disp.plot()\n",
    "plt.xticks(rotation=90)\n",
    "plt.show()"
   ]
  },
  {
   "cell_type": "markdown",
   "id": "d6d1b95f-e14c-4232-a4d7-f1c091dd1011",
   "metadata": {},
   "source": [
    "## Qualitative analysis"
   ]
  },
  {
   "cell_type": "code",
   "execution_count": 61,
   "id": "8adae384-7c39-467e-937d-82987befb20a",
   "metadata": {},
   "outputs": [
    {
     "name": "stdout",
     "output_type": "stream",
     "text": [
      "---------------------------Movie Review 0---------------------------\n",
      "b\"apollo 13 is simply one of the most dramatic film this summer ( apart from swashbuckling braveheart ) . \\ndirector ( and former actor ) ron howard ( splash , backdraft , far & away ) , most noted for his dramatic film making , displays again his brilliance in creating drama and suspense in apollo 13 . \\nbeing the second largest box office hit in the us this summer ( with more than us$150 million in the states alone ) , this film is his most successful effort yet . \\nperhaps one of the most appealing feature of this film is the pool of talented actors such as tom hanks ( gump himself ) , kevin bacon ( footloose , tremors , a few good men etc . ) , gary sinise ( forrest gump ) , bill paxton ( aliens , true lies , boxing helena ) and ed harris ( the abyss , just cause ) . . \\nall of whom gave good performances in their respective roles . \\napollo 13 was the second worst accident ever to occur in the history of us spaceflight ( the worst being the challenger accident ) . \\njim lovell ( hanks ) , the mission commander , together with his crew , fred haise ( paxton ) and last minute replacement tom swigert ( bacon ) are put to the ultimate test when part of their command module explodes on the third day of the mission , more than three quarters way to the moon . \\nsuspense and drama ensue as the three men are left in space with their spaceship out of control and the problem of surviving the journey home . . . \\nif they ever reach it . \\ned harris and gary sinise who play , respectively , the man in charge of the entire mission control and the astronaut who was supposed to fly but was diagnosed with measles , both delve into their roles superbly . \\naudiences are shown the chaotic and worrisome state of the entire ground control crew , as they frantically attempt to come up with ideas on how to save the astronauts from hurtling into space . \\nalso , there are quite a number of real news footages which were broadcast during the accident which took the entire us nation into 5 days of drama in 1970 . \\nthe special effects by digital domain are up to standard and the music suits the suspense and drama very well , thanks to film-music maestro james horner . \\nwatch out for the launching sequence , it is simply one of the most breathtaking scenes of the film . \\na bad point though : apollo 13 features much technical jargon and many physics concepts in its script . \\nthose who consider themselves `scientifically illiterate' might have a slight problem understanding what caused this and what caused that during the course of the show . \\nthis is however , just a minor point , just forget all those technical bullshit and immerse yourselves into the drama and suspense throughout the film . \\nyou should enjoy it . \\n\"\n",
      "\n",
      "\n",
      "Classifications neg and real label is pos\n",
      "---------------------------\n",
      "\n",
      "\n",
      "---------------------------Movie Review 1---------------------------\n",
      "b'_dirty_work_ has a premise of deliciously mean-spirited potential . \\nmitch weaver ( norm macdonald ) and his lifelong best friend sam mckenna ( artie lange ) are losers in life : they were constantly picked on in school , and now they cannot hold regular jobs . \\nbut as the trailer goes , \" there is one thing mitch weaver is good at--revenge . \" \\nso he and sam parlay their unmatched skill in getting-even schemes into a marketable revenge-for-hire business called dirty work inc . \\nthis should be the groundwork for a wonderfully wicked black comedy , but for a film called _dirty_work_ , what ensues is rather clean of spirit . \\nin fact , what makes mitch and sam start up their business is not a giddy desire to give bullies a taste of their own medicine , but rather a more sappy reason : sam\\'s father ( jack warden ) needs a heart transplant , and in order for him to move at the top of the recipient list , his compulsively betting doctor ( chevy chase ) asks the guys for $50 , 000 to pay off his bookie . \\nso for all the scheming that goes on , beneath every underhanded plot is--gasp ! --a \\nheart , which undercuts the inherent nastiness of the premise . \\nnot that there isn\\'t a lot of nastiness on display--there is , but of a different sort . \\nthere are frequent sexual references , most prominently in the form of prostitutes and sam\\'s impotent father\\'s ongoing lust for them . \\nand for a film rated pg-13 , director bob saget ( yes , that bob saget , of _full_house_ and _america\\'s_funniest_home_videos_ fame ) and writers frank sebastiano , fred wolf , and macdonald himself , stretch the boundaries of good taste rather far--arguably a bit too much so ( was not one , but two separate instances of sodomy between animals really necessary ? ) . \\nbut the issue , of course , is not so much of taste as it is humor--as in , is it funny or not ? \\nthe answer is a resounding no . \\nit\\'s not that macdonald isn\\'t a funny guy . \\nhe was one of the more consistently funny performers on _saturday_night_live_ before his much-talked-about firing , and his dry brand of smartass wit translates well to the big screen ; it also doesn\\'t hurt that he\\'s a natural , likable screen presence . \\nhe is able to give some of his lines a nice acid touch , but , for the most part , the oneliners , as written , are flat , and the broad slapstick gags just don\\'t work ( one running gag has him being literally tossed out of buildings--a real riot ) . \\nstill , macdonald\\'s few shining moments are just about the only moments the film has . \\nthe late chris farley , as hysterical as he ever was , is amusing in a cameo role , but , as a whole , the supporting players are amateurish and seemingly free from any directorial guidance . \\nsaget tries to juice up the proceedings with kitschy cameos by gary coleman , adam sandler , and john goodman , but their minimal novelty value cannot prevent _dirty_work_ from sputtering to the end of its brief 81-minute running time . \\nthe film closes on a sad note of desperation , an indulgent reel of outtakes from which only those involved in the production would derive any amusement . \\ncome to think of it , i cannot imagine anyone but those involved in the production to find much amusement in the entirety of _dirty_work_ . \\n'\n",
      "\n",
      "\n",
      "Classifications neg and real label is neg\n",
      "---------------------------\n",
      "\n",
      "\n",
      "---------------------------Movie Review 2---------------------------\n",
      "b'while it was part of former yugoslavia , my country , croatia , used to be almost completely ignored by western films in general . \\nwords \" croatia \" and \" croatians \" were unheard , even in movies whose plots actually took place on croatian locations . \\nthe rare exception was the dogs of war , 1980 adaptation of frederick forsyth\\'s bestselling novel , yet that rare occasion only added insult to the injury , by mentioning croatians in most unflattering context . \\nin a single line they are referred as a bunch of mean people , probably terrorists , who happen to remove parts of arm dealers\\' stomachs when they are unsatisfied with the quality of merchandise . \\nsame line also illustrates the milieu where the movie takes place - dark and violent world of shady international deals with the blurred boundaries between business , politics and crime . \\nthe movie protagonist , shannon ( christopher walken ) is a mercenary who spent the best years of his life fighting numerous little wars all over the globe . \\nhis latest job is a intelligence mission for powerful mining corporation that demands information about political climate in west african nation of zangaro . \\nshannon arrives in that country only to find oppressive regime of president kimba , bloodthirsty madman whose brutality crushed any opposition and scared almost any westerners away . \\nafter being arrested and tortured by kimba\\'s secret police , shannon leaves country with a help of british journalist north ( colin blakely ) . \\nupon return , he is approached by mining company again , but this time they want him to plan and execute the coup d\\'etat against kimba . \\nshannon reluctantly agrees and assembles small group of his surviving mercenary friends who begin meticulous preparation for another small war . \\nthing that separates the dogs of war from conventional action movies , especially those made in 1980s , is its authenticity , almost close to documentary . \\nit shouldn\\'t surprise anyone , because the author of the novel , frederick forsyth , made reputation by blending fiction with real life , thus creating interesting , exciting yet very believable plots for his books . \\nthose plots were also responsible for few very successful 1970s thrillers , and one of them , zinnemman\\'s the day of the jackal , is now considered a classic in that genre . \\nthis one deals with soldiers of fortune , ancient tradition that was resurrected in great turmoil of 1960s and 1970s and filled the void left by vanishing colonial empires . \\nunlike wild geese , that used it as a pretext for conventional action adventure , script by george malko and gary de vore ( author whose death last year became real life mystery ) is serious , and instead of action puts emphasis on characters and prosaic details of their work . \\nthe movie doesn\\'t try to romanticise the mercenary profession nor glorify mercenaries as some kind of superheroes ; they are simply shown as deadly yet expendable tool of powerful forces with questionable agenda . \\nchristopher walken played in many movies , yet very rarely we can see him in a leading role . \\nhis performance in this film perhaps isn\\'t breathtaking , yet adequate . \\nhis notoriously expressionless face is perfect illustration of the disillusioned , world- weary man whose alienation from the \" normal \" way of life becomes complete and only remaining ideal is loyalty to the shrinking circle of friends . \\nalthough the movie doesn\\'t lack capable actors , their roles are miniature compared with walken\\'s , and only colin blakely as cynical reporter has opportunity to portray his character . \\nhowever , those who look familiar faces would find them plenty in the dogs of war - tom berenger , paul freeman , jo beth williams , victoria tennant ( in brief cameo ) , and biggest surprise is ed o\\'neill ( of married with children fame ) as shannon\\'s reluctant colleague . \\nthis was the first major production for john irvin , and it shows why he earned the reputation of capable , yet second class director . \\nwith the good script he can make very good movie , with the bad script he can make real mess . \\nluckily , the dogs of war had a good script . \\nirvin\\'s direction was very ascetic and it gave the movie almost documentary feel . \\nthe only distraction is dramatic music of geoffrey burgon , used on the wrong places . \\nin the final battle scene , where we can see mercenaries at work , irvin shows us that modern warfare means superior firepower and tactics , unlike 1980s ramboesque fantasies that rely on macho superheroes . \\nunfortunately , by making battle realistic irvin made it somewhat less attractive and his sloppy editing also didn\\'t help . \\nbut , despite those shortcomings , this movie remains interesting and rare combination of action thriller and gritty , realistic political drama . \\n'\n",
      "\n",
      "\n",
      "Classifications pos and real label is pos\n",
      "---------------------------\n",
      "\n",
      "\n",
      "---------------------------Movie Review 3---------------------------\n",
      "b'a movie that\\'s been as highly built up as the truman show , with reviews boasting , \" the film of the decade ! \" \\nand \" a breakthrough ! \" \\ncan only be leading up to letdown . \\nthat\\'s no doubt -- it seems any movie with critical acclaim makes you think you\\'re going in for the ride of your life , that you\\'ll end up changed on the other side , and you come out of the theater going , \" eh . . . \\n * that\\'s * what all the fuss was about ? \" \\nso , naturally , the truman show was building up to what was going to be a dissapointment . \\nand i convinced myself , as i nestled into my uncomfortable movie theater chair , actually to try not to enjoy it . \\nlet me tell you , that is an impossibilty . \\nthe truman show is truly \" the film of the decade \" and \" a breakthrough \" and more . \\nand you will come out changed on the other side . \\nsuch a movie comes around only once in a lifetime , where you find yourself feeling everything that the character is feeling , and this , friends , is it . \\njim carrey shows that he doesn\\'t need to talk out of his butt to entertain us ; that he can be as dramatic as any of hollywood\\'s leading men . \\nthe film has a difficult premise to tackle , trying to set us up thirty years into the \" truman show\\'s \" run , but tackle it it does , and perfectly . \\nwith flashbacks actually being flashbacks on the television show , you get the sense that you are viewing a * real * prime-time hit . \\nand the way the camera constantly takes the forms it would in the \" real \" truman show is clever and well-done . \\npeople , rejoice ! \\nthis is the first oscar-worthy film of not only this year , but of the last five years . \\nnot since \" schindler\\'s list \" has a movie captured human spirit and true despair so well . \\nthis is a classic in the making , and ( to borrow a line from esquire\\'s review ) it stars jim carrey . \\nnothing in his career to date and nothing he can do in the future will ever be able to top his role as truman burbank ; mark my word . \\nfor , as i said , this is the movie of a lifetime and the role is of the same calibre . \\nforget special-effect ladden summer fodder . \\ndrop your romantic comedies in the trash . \\ntoss your thrillers and teen flicks on the pile . \\nyou need nothing more than \" the truman show \" to carry you through the summer , or for that matter , the year . \\noh ! and in case i don\\'t see you , good afternoon , good evening , and goodnight . \\n'\n",
      "\n",
      "\n",
      "Classifications pos and real label is pos\n",
      "---------------------------\n",
      "\n",
      "\n",
      "---------------------------Movie Review 4---------------------------\n",
      "b'all through its production and into the early days of its initial , aborted pre-release publicity , hard rain bore the appropriate moniker of the flood . \\nultimately , however , paramount pictures , nervous that this movie would be confused with 1996\\'s other , underperforming disaster films ( dante\\'s peak , volcano ) , changed the title and shifted the release date by nearly a year . \\nbut , to paraphrase the bard , swill , by any other name , would smell as rank . \\nno number of name changes can help this picture . \\nit\\'s not just about a disaster , it is a disaster . \\nhard rain is the case of a movie that gets progressively worse with every passing minute . \\nthe best shot occurs during the opening credits , as the camera pans over the streets and byways of huntingburg , indiana as the water level slowly rises . \\nthe community , protected by an overworked dam , is being evacuated as the rain continues to pour relentlessly from the cloud-choked skies . \\nfrom that moment on , it\\'s all downhill . \\nwhatever initial entertainment value the film possesses has long since drained away by the halfway point . \\nit takes forever to get to the end credits -- this is one of the longest-seeming 95-minute motion pictures i have recently endured . \\nbasically , hard rain is one extended , dull chase sequence punctuated by occasional shoot-outs . \\nthere\\'s a lot of water , broken glass , gunfire , and explosions . \\nit\\'s all very routine and uninteresting because there aren\\'t any real characters and the plot only occasionally makes sense . \\nthe film\\'s conclusion is so preposterous that it\\'s almost worth watching for the sheer masochistic enjoyment of seeing the monumentally idiotic way that the film makers decide to resolve the myriad subplots that are floating around . \\naction films are supposed to become progressively more invigorating as they rush towards a conclusion . \\ngraham yost , the writer of both speed and hard rain , surely understands that principle . \\nunfortunately , neither he , nor cinematographer-turned-director mikael salomon ( a far off place ) , applies it . \\nthe action in hard rain grows tedious through repetition . \\nwe see the same kinds of things -- speedboat chases , flood damage , shoot-outs , etc . -- over and over again . \\nthe movie constantly recycles about twenty minutes worth of material to pad the running time out to an acceptable movie length . \\nthe storyline gives us a number of paper-thin characters in contrived circumstances . \\nthere\\'s tom ( christian slater ) , the one- dimensional action hero who works as a security guard driving an armored car full of cash . \\nhe and his partner , charlie ( edward asner , tv\\'s \" lou grant \" ) , get stuck on a street that\\'s rapidly turning into a river . \\na group of men , led by jimmy ( morgan freeman ) , arrive on the scene not as rescuers but as robbers . \\nafter charlie is killed in a shoot-out , tom hides the money , then runs . \\nas he swims and boats his way through huntingburg\\'s roads , he encounters some of the locals : karen ( minnie driver ) , a would-be love interest ; a bickering old couple ( richard dysart and betty white ) , who are on hand to provide comic relief ; and the easily-corrupted sheriff ( randy quaid ) , whose seeming helpfulness hides sinister ulterior motives . \\nthere isn\\'t any real acting in this film . \\nchristian slater utters a few lame one-liners and does a lot of mugging for the camera . \\ntom is easily one of the most lifeless characters the actor has brought to the screen . \\nrandy quaid sneers a lot , and is totally unconvincing . \\nmorgan freeman and minnie driver both attempt to give legitimate performances , but they are defeated by the script . \\nfreeman , one of the best cinematic thespians working today , looks suitably embarrassed to be here , but i suppose everyone needs a good paycheck from time-to-time . \\nfollowing in the wake of twister , this is yet another natural disaster movie that doesn\\'t trust nature\\'s fury as the chief engine of conflict . \\nas a result , we are saddled with an idiotic good guys/bad guys story that effectively ruins any potential that the flood tale could have had . \\ntitanic proved that there can be a wealth of drama in a movie where everything goes under water . \\nhard rain successfully demonstrates that the opposite is equally possible . \\nthus far this year , hollywood has already subjected us to its unique brand of moronic mayhem by fire ( firestorm ) and water ( hard rain ) . \\nfortunately , there are only two elements left . \\n'\n",
      "\n",
      "\n",
      "Classifications neg and real label is neg\n",
      "---------------------------\n",
      "\n",
      "\n",
      "---------------------------Movie Review 5---------------------------\n",
      "b'it happens every year -- the days get longer , the weather gets warmer and the studios start releasing their big-budget blockbusters . \\nthis year\\'s crop already seems inferior to that of past summers , even 1997\\'s lackluster trio of batman & robin , the fifth element and the lost world . \\nthe marketing blitz in 1998 has been centered on godzilla ( \" heeere , lee-zerd , lee-zerd . . . \" ) , which doesn\\'t make me optimistic about future summers . \\ngodzilla is , of course , based on a series of cult movies ( translation : really bad movies only a few people can tolerate ) from japan that turn up really late at night on ted turner-owned cable stations . \\nthat this big-budget remake won\\'t rise above its roots is fairly obvious . \\nthe credits show us the origin of godzilla . \\nin five words : nuclear explosion creates giant lizard . \\nsounds like an enquirer headline , doesn\\'t it ? \\nthe mushroom cloud is followed by the inevitable \" discovery \" sequence . \\nthis time , a japanese guy is eating noodles with chopsticks while watching sumo wrestling ( if that ain\\'t a stereotype . . . ) \\nwhen he discovers the telltale radar blip . \\npeople die . \\ncut to our protagonist , played by matthew broderick . \\nhe makes his first appearance wearing headphones , warbling along to \" singin\\' in the rain . \" \\nit\\'s a none-too-subtle sign that he wishes he were in a classier movie . \\nno dice , bueller . \\nfrom the beginning , poor matthew has to do embarassing things like fondle giant earthworms and stand in godzilla\\'s enormous footprint . \\nevery disaster movie has to have a know-it-all scientist , and this time broderick is it . \\nas the world\\'s leading expert on radiated earthworms ( and wouldn\\'t you love to have that printed on your business card ? ) , \\nbroderick is invaluable to the government . \\nhe immediately dispels vicki lewis\\' theory that godzilla is a dinosaur because , hey , you can\\'t take seriously the intellectual arguments of \" newsradio \" cast members . \\nbroderick instead hits the nail on the head , announcing godzilla is a radiated lizard . \\n \" the radiation isn\\'t an anamoly , \" he announces , and lightning strikes . \\n \" i believe this is a mutated abberation , \" he continues , and lightning strikes again . \\nit\\'s vocabulary lightning , you see , activated by words of four syllables or more . \\nmeanwhile , we\\'re introduced to our new york cast , headed by an ambitious broadcast journalist ( maria patillo ) , broderick\\'s former love . \\ngee , what are the odds their paths will cross again at a dramatically important time ? \\npoor patillo has been trying to get ahead in the news business for years but has been held down by heartless anchorman harry shearer . \\nitalian cameraman hank azaria tells her she\\'s not ruthless enough : \" nice doesn\\'t get you anywhere in this town . \\nit\\'s dog eat dog . \" \\nactually , it\\'s lizard eat city , as godzilla emerges from the atlantic to begin a rampage on the big apple\\'s core . \\nthe filmmakers provide us with a one-note drunk fisherman who hooks godzilla . \\n \" i think i\\'ve got a bite , \" he announces as a gigantic tidal wave begins rushing toward him . \\nyou can guess what happens next . \\nsimilar reactions spring forth as the monster prowls the city . \\nhearing the rumble of approaching footsteps , one new yorker remarks , \" please don\\'t tell me that\\'s another parade . \" \\nplease don\\'t tell me that\\'s the best line you could come up with . \\nmayor ebert is not pleased . \\nplayed by the principal from \" head of the class , \" he continually makes the wrong decision when given an option , and bickers with his assistant gene . \\ni guess the filmmakers knew they\\'d be getting two thumbs down from the critics and didn\\'t even bother to kiss ass . \\nthe problem is , if you\\'re going to attack siskel and ebert , you should at least make it funny . \\ndialogue like , \" didn\\'t we agree that we weren\\'t going to have any sweets until after the election ? \" \\nfollowed by , \" back off , gene , \" just doesn\\'t work for me . \\nother lame running jokes include everyone mispronouncing the broderick character\\'s last name and frenchman jean reno\\'s inability to find a good cup of coffee in new york . \\nthere\\'s even more fun to be had as godzilla progresses . \\nas the beast heads back into hiding , broderick suggests the military lure it out with food . \\ncue twelve dump trucks , all dropping fish into a new york intersection . \\n ( broderick : that\\'s a lot of fish . ) \\nthat ambush fails , but broderick soon figures out why godzilla came to new york by buying $50 worth of home pregnancy tests and running lizard blood through them . \\nyep , godzilla\\'s with children , which makes you wonder just what kind of creature would be horny enough to have sex with godzilla . \\nthat\\'s until broderick explains that godzilla reproduces asexually , like linda tripp . \\ngodzilla comes to us from the makers of independence day , so it has a lot of dumb action scenes , destructive special effects and shallow subplots . \\nlook no further than patillo\\'s betrayal of broderick ( patillo : what have i done , animal ? \\nwhat have i become ? ) and the climactic \" godzilla\\'s nest \" sequence in madison square garden . \\nthe main difference is , independence day was about the experience . \\nit had a real global , patriotic element to it , and some genuinely fun characters . \\ngodzilla has lots of rain and lightning , reptilian action ripped off from jurassic park and endless product placement from the likes of kodak , blockbuster , juicy fruit , swatch , sprint and bumble bee tuna . \\nyes , bumble bee actually paid to be known as the official tuna of godzilla . \\nthat fact alone is twice as interesting as anything in the movie . \\n'\n",
      "\n",
      "\n",
      "Classifications neg and real label is neg\n",
      "---------------------------\n",
      "\n",
      "\n",
      "---------------------------Movie Review 6---------------------------\n",
      "b'dora ( fernanda montenegro ) sits behind a make-shift desk at rio+s major train station . \\nshe , in her colorful demeanor , offers a service that is unheard of in the states . \\nshe writes letters for the illiterate , who pass through , to try to find lost relatives , find love , or search after lost debts . \\nshe+s quirky , she+s elderly , she+s caring . \\ntotally trustworthy , right ? \\nnot a chance . \\nonce home , she never sends these letters , saving money on postage , and relishing in the drama contained therein with her neighbor irene ( mar ? lia p ? ra ) . \\none of the letters is sent by a young mother with her nine-year old son , looking for their father . \\nshortly thereafter , she gets hit by a bus , and the son is orphaned . \\ndays go by , and the boy , named josu ? , roams around the station , hungry , desperate , and somewhat clueless to his predictament . \\nthrough a series of circumstances too precious to elaborate upon , dora somehow takes a responsibility in trying to find josu ? +s father . \\nthis means leaving the security of rio , traveling to the outskirts of brazil , where unpaved roads , religious devotees and the poverty-stricken become commonplace . \\nfilms like this remind me as to what i enjoy about some foreign films . \\nit is an opportunity for me to get a fresh breath in another part of the world , so distant from my own . \\nit does so entertainingly , and so heart-wrenchingly . \\nand yet , it+s backdrop is merely that . \\nthe focus is on the minute transformation of dora , of how she learns to love this little kid , without being cloying or sentimental . \\nthe most interesting backdrop is the amount of religious dedication is in the film . \\ndora being an amoral scam-artist , could care less about the amount of bickering between the candle-lighting of the catholics versus the bumper-sticker mentality of the evangelicals . \\nbut neither side is trivialized . \\nshe even begins to develop an affection for a non-drinking evangelical , who sees the problems with dora , if not initially . \\nfernanda montenegro surprisingly got an oscar nomination for this very delicate performance , but the true marvel is that of vinicius de oliveira , who plays josu ? . \\nhe , like the discoveries of j ? r ? mie renier ( _la promesse_ ) and giorgio cantarini ( _life is beautiful_ ) , prove that the true acting discoveries may be outside of the united states . \\nhe is a natural , and never once grating . \\nsend a memo to jonathan taylor thomas . \\n'\n",
      "\n",
      "\n",
      "Classifications pos and real label is pos\n",
      "---------------------------\n",
      "\n",
      "\n",
      "---------------------------Movie Review 7---------------------------\n",
      "b'making a sequel to a widely beloved film is a weighty proposition indeed , especially when the first film is considered by many to be a masterpiece . \\nwhen it comes to living up to expectations , a filmmaker is almost doomed to some degree of failure . \\nfor a sequel to live up to or even surpass the original\\'s greatness is very rare indeed . \\nand whereas \" babe : pig in the city \" misses equaling the greatness of its best picture nominated predecessor babe , it is a worthy companion piece . \\nmore than that , it is a spectacular work of art that deserves to stand alone in its own right . \\n \" babe : pig in the city \" warrants the classification of being recognized with such classics like \" the godfather : part ii \" and \" the empire strikes back \" as being one of the greatest sequels ever produced . \\n \" babe : pig in the city \" picks up precisely where \" babe \" left off . \\nhaving won the sheep herding competition , farmer hoggett ( james cromwell ) and his pig are elevated to fame status . \\na series of unfortunate circumstances and hilariously freakish events leads to mrs . hoggett taking babe from the small country farm into the big city . \\nin doing so , the film transports us into a wonderfully imaginative world that simultaneously mirrors and exceeds the creative design seen in the original . \\n \" babe : pig in the city \" flourishes where so many sequels fail . \\nmost sequels simply rehash the events of the first film . \\nnot \" babe : pig in the city \" . \\nthis is a completely original tale that offers up a story drastically different than the first . \\nalso , by not being content to utilize most of the old characters , this film gives us many new ones to enjoy . \\nin essence , it doesn\\'t attempt to copy itself . \\ninstead , it strives to achieve an originality of its own . \\nand it succeeds . \\nthat\\'s not to say the familiar is absent . \\n \" babe : pig in the city \" retains some of the best core elements and characters from the first film . \\nalong with babe himself , ferdinand the duck comes along for the ride , as does mrs . hoggett ( one of this decade\\'s best and most underappreciated comic characterizations , hilariously performed by magda szubanski ) . \\nthe three singing mice also make the journey , chiming in with their cute high-pitched vocals . \\nthe story structure is also similar as each segment is introduced with title cards read by the aforementioned mice . \\nfrom there , we are guided once again by roscoe lee browne\\'s soothingly deep narrative . \\ncomposer nigel westlake also returns with his whimsical music style that is perfect for cinematic fables such as these . \\nbut these elements are simply the frame that surrounds an entirely new painting . \\nwhile staying at the flealands hotel , babe encounters a veritable ark-full of new animals . \\nmonkeys , kittens , and dogs of various breeds and sizes are some of the new \" urbanites \" that babe befriends , as well as some wonderfully comical pelicans that ferdinand the duck happens to encounter . \\neach character is distinctly unique , some of which are imbued with personal human-like struggles that are endearing and touching . \\nand while this world focuses largely on these animals , we are introduced to two new human characters as well . \\nmary stein plays the owner of the flealands hotel , an animal-loving young spinster who harbors these lost creatures much to the dismaying anger of her fellow neighbors . \\nstein\\'s landlady is a wonderfully odd caricature . \\nwe also meet fugly floom , an old soft-spoken clown who owns many of the animals in the flealands hotel , utilizing them as a part of the act that he performs at different parties and functions . \\nnot having known who portrayed fugly floom prior to seeing the film , it came as an unexpected pleasant surprise to see who it was . \\nso as not to ruin this well-kept secret , i won\\'t reveal the actor\\'s identity here . \\nit was a treat indeed to see one of cinema\\'s legends grace the screen again in what was a superbly gentle and heartwarming performance . \\nthe greatest triumph of \" babe : pig in the city \" is the art direction . \\nsimply put--it bleeds creativity , taking the look of the original film to a whole new level . \\nrestricted primarily to a farm the first time around , this second installment creates an entire city , dazzling us with unique fable-like architecture . \\nbut the stroke of pure genius by production designer roger ford is his use of our world\\'s architectural landmarks . \\ndesigning a skyline that includes the statue of liberty , the sydney opera house , the brooklyn bridge , the hollywood sign and the eiffel tower , ford has created a singular city that encompasses all of our cities ( as seen in the film photo and pre-production drawing to your right ) . \\nadded to that , many of this city\\'s streets are the twin siblings of venice\\'s gondola-trekked rivers . \\nthe metropolis that has sprung from ford\\'s vision is a wondrous sight to behold . \\nit is a world that you want to walk around in . \\nnorma moriceau\\'s costume designs belong in this world , vibrant in color and style equal to that of the ford\\'s landscape . \\nmost of the costumes are imaginatively cartoonish , with the most exotically grand design going to that of fugly floom\\'s clown outfit . \\nandrew lesnie\\'s photography captures these elements with various lighting moods that are beautifully effective in creating the film\\'s multiple emotional tones . \\nmuch press fodder has been made over the weeks leading up to the release of \" babe : pig in the city \" . \\nreports stated that its original cut was branded with a pg-13 rating . \\nthese reports were discovered to be false as it was assigned a pg rating . \\nbut even so , to be anything harsher than the original\\' s g rating had many parents and fans up in arms . \\nby deleting a minimal number of shots , \" babe : pig in the city \" was eventually given the coveted g rating . \\nalthough appeased , many fans were still concerned that it would be too dark , fearing that the film may have come to be possessed by tim burton himself . \\nwell , to coin a phrase , the reports of \" babe : pig in the city \" \\'s death at the hands of a dark , scary , felliniesque interpretation have been greatly exaggerated . \\ngranted it has its moments of pseudo-morbidity , but all-in-all \" babe : pig in the city \" is the funny and charming adventure that everyone was hoping it would be . \\nwhatever \" dark \" moments it may have can be attributed to director george miller ( the \" mad max \" trilogy , \" the witches of eastwick \" , \" lorenzo\\'s oil \" ) . \\nhaving served as a producer and co-writer on the first film , miller moves into the director\\'s chair for this one , putting his own unique sense of style into this budding franchise . \\nthe story of \" babe : pig in the city \" is an enchanting yarn , but one that doesn\\'t achieve the emotional or character depth of the original . \\nmissing here is the attempt to broach such heady themes as personal identity , an individual\\'s worth , challenging conformity , and one\\'s purpose in life . \\n \" babe \" dealt with this weighty subject matter , creating a timeless fable . \\n \" babe : pig in the city \" should not have rehashed these themes , but i do wish it would have attempted to explore new ones . \\nthis film is not bereft of moral or message as it parallels such issues as urban strife , class differences , sacrificial courage , and so on . \\nbut this film\\'s goals aren\\'t as lofty as the first\\'s , instead choosing to take a more straightforward approach , allowing its themes to take a back seat to an exciting , sometimes intense , fable adventure that is undeniably clever and inventive . \\n \" babe : pig in the city \" also decides against developing a relationship to the level of which was present in the first film , specifically the one between farmer hoggett and babe . \\nhoggett\\'s love for babe , which grew ever so gently , is what gave that film its charming and endearing quality . \\nbest exemplified in hoggett\\'s dance for babe , this moving relationship was truly unique . \\nit is something that i wish would have been present again ( and could have through fugly floom ) , but was not . \\nplease understand , these are not negative criticisms , per se\\' , but simply statements of what i see as the differences between \" babe : pig in the city \" being a very good film and the original being a great one . \\nbut having said that , these observations are minor critiques at best . \\nas an overall piece , \" babe : pig in the city \" is a thoroughly enchanting and entertaining fable from beginning to end . \\nsure , it isn\\'t a great film , but it is an excellent one that possesses elements of greatness . \\nit is a film that is magical with its charm and humor , exciting in its adventurous exploits , funny with its dry wit and cute voices , and breathtaking in its presentation . \\n \" babe : pig in the city \" may not be moviemaking at its absolute best , but it is on level of cinematic quality that is rarely achieved or seen in cinema . \\nas a result , if you choose to let this film pass you by , you will be missing of the year\\'s best cinematic treats . \\n'\n",
      "\n",
      "\n",
      "Classifications pos and real label is pos\n",
      "---------------------------\n",
      "\n",
      "\n",
      "---------------------------Movie Review 8---------------------------\n",
      "b'synopsis : big-breasted and dim-witted sculptress britt gets really mad at her grad student boyfriend because he spends too much time on his thought-transference experiments instead of her art showings . \\nelderly , evil scientist everett longstreet switches minds with britt\\'s boy , in the meantime , and goes completely mental . \\ncomments : naked souls opens with a naked woman , and the movie makes no illusion that it\\'s a sci-fi vehicle designed to show pamela anderson\\'s , um , talents . \\nif you are really interested in seeing anderson\\'s talents , however , i suggest you skip over this dud and watch the infamous pam and tommy lee honeymoon sex tape , now available on home video . \\nat least with that \" movie , \" you don\\'t have to go through the painful experience of watching pamela try to pronounce multiple syllable words like \" eclectic . \" \\na premise does exist in the movie . \\nbasically , while anderson wears skimpy clothes which barely contain her talents , she practices her art -- brilliantly slapping plaster of paris on naked women . \\nher boyfriend , meanwhile , spends 20 hours a day in a morgue trying to view the memories of dead prison inmates because this will \" make a difference to humanity . \" \\nwhatever . \\nthe movie fails to explain how these two hooked up . \\nbe grateful . \\nafter we meet the evil everett longstreet , lots of technobabble and mystical mumbo-jumbo get tossed about , pammy has sex replete with cheesy make-out music , and minds get transferred . \\nnever fear , though , pammy uses her sharp mental abilities ( ahem ) to save her boyfriend in the end . \\nunfortunately , no one saves the movie . \\navoid this would-be sci-fi thriller , unless you\\'re in for a good laugh or two . \\n'\n",
      "\n",
      "\n",
      "Classifications neg and real label is neg\n",
      "---------------------------\n",
      "\n",
      "\n",
      "---------------------------Movie Review 9---------------------------\n",
      "b'james cmaeron\\'s breakthrough feature was the first of his films to showcase his obsession with technology and more specfically technology run amok . \\nfor those of you who do not know the plot : in 2029 machines have engineered a nuclear for the expressed purpose of wiping out the human race . \\nhuman survivors are systematically hunted down and destroyed . \\nhowever , some humans are fighting back led by the heroic john connor . \\nto stop connor , the machines send a terminator ( arnold schwarzenegger ) back to 1984 to murder connor\\'s mother , sara ( linda hamilton ) , and thus prevent connor from ever being born . \\nin response , the humans send a protector , kyle reese , played by michael biehn . \\nimages of machines and of humans\\' reliance on machines dominate the film . \\neven though the characters know that the benign oil drillers of 1984 will become the ruthless hunter killers of 2029 , humans continue to use the machines . \\nin the climax of star wars , luke relies on the force alone--his own spiritual power--to destroy the death star . \\nin the terminator , however , sara must use another machine--a giant hydraulic press--to vanquish her enemy . \\ncameron seems to be implying that this reliance on technology is inescapable--and he\\'s not happy about it . \\nunabated technological growth brings about the terminator\\'s other obsession : the apocalypse . \\nwe have plenty of imagery regarding armageddon : thousands of human skulls line the streets of future la . \\nchildren watch the flames in a burning television . \\nwhen the terminator arrives in 1984 an almost biblical lightning storm precedes him . \\neven though the \" future is not set , \" there is no doubt about where the world is headed at the end of the movie : the machines will rise and the humans will have to struggle for their very existence . \\nall sara can do is await it . \\n ( cameron doesn\\'t wimp out like he does in terminator 2 ) \\nthe end of the world is the human race\\'s own fault , too . \\nafter all it is the humans that created in the evil machines in the first place . \\nback in 1984 , when the cold war was still in full effect , the film must have been seen as a very apt metaphor for nuclear war ( another obsession of cameron\\'s ) . \\nthese days , one can read a criticism of machine-like behavior in humans . \\ntrue , humanizing touches are put into paul winfield\\'s and lance henriksen\\'s detective characters , but the terminator is also able to move through the city undetected . \\ncameron also draw parallels between the mechanical efficiency between the terminator and reese when they first arrive in 1984 la . \\nfrom a technical standpoint the terminator is very well done . \\narnold schwarzenegger is a perfect antagonist--unstoppable , merciless , obdurate . \\nwe are not meant to empathize with this ultimate killing machine as we are in some of schwarzenegger\\'s later works ( eg , commando ) , but fear him . \\ncameron and hurd\\'s script basically depicts a one hour and forty-five minute chase , taking a few moments here and there to explain time travel and develop the romantic subplot . \\nwhile we do see the hackneyed dialogue cameron is now so well known for , there is also considerable suspense especially for the first time viewer who may be unsure of kyle reese\\'s intentions . \\ncameron directs the film at a rapid , kinetic pace . \\neither the camera is moving or something within the frame is moving--usually both occurs . \\nthe violence is not particularly graphic ( temple of doom\\'s heart-pull scene outgrosses the terminator\\'s ) , but it is brutally staged making it that much more effective . \\nfor a low budget film , the terminator\\'s special effects and art direction ( especially in 2029 la ) are remarkably well done . \\nspecial mention should be made of the stop motion effects work at the end of the film depicting the terminator endoskeleton . \\nit is some of the best stop motion i have ever seen . \\none thing that doesn\\'t hold up after all the years , however , is linda hamilton\\'s hairdo . \\n'\n",
      "\n",
      "\n",
      "Classifications neg and real label is pos\n",
      "---------------------------\n",
      "\n",
      "\n"
     ]
    }
   ],
   "source": [
    "# sample some of the predictions against the ground truths \n",
    "for idx, (article, prediction, truth) in enumerate(zip(docs_test[:10], y_pred[:10], y_test[:10])):\n",
    "    print(f\"---------------------------Movie Review {idx}---------------------------\")\n",
    "    print(article) \n",
    "    print(f\"\\n\\nClassifications {prediction} and real label is {truth}\")\n",
    "    print(\"---------------------------\\n\\n\")"
   ]
  }
 ],
 "metadata": {
  "kernelspec": {
   "display_name": "Python 3 (ipykernel)",
   "language": "python",
   "name": "python3"
  },
  "language_info": {
   "codemirror_mode": {
    "name": "ipython",
    "version": 3
   },
   "file_extension": ".py",
   "mimetype": "text/x-python",
   "name": "python",
   "nbconvert_exporter": "python",
   "pygments_lexer": "ipython3",
   "version": "3.11.7"
  }
 },
 "nbformat": 4,
 "nbformat_minor": 5
}
